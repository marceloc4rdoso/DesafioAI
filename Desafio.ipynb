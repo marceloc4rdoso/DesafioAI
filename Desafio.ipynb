{
  "nbformat": 4,
  "nbformat_minor": 0,
  "metadata": {
    "colab": {
      "private_outputs": true,
      "provenance": [],
      "authorship_tag": "ABX9TyO/jyq9V/s/UwvO9Osnz0L0",
      "include_colab_link": true
    },
    "kernelspec": {
      "name": "python3",
      "display_name": "Python 3"
    },
    "language_info": {
      "name": "python"
    }
  },
  "cells": [
    {
      "cell_type": "markdown",
      "metadata": {
        "id": "view-in-github",
        "colab_type": "text"
      },
      "source": [
        "<a href=\"https://colab.research.google.com/github/marceloc4rdoso/DesafioAI/blob/main/Desafio.ipynb\" target=\"_parent\"><img src=\"https://colab.research.google.com/assets/colab-badge.svg\" alt=\"Open In Colab\"/></a>"
      ]
    },
    {
      "cell_type": "markdown",
      "source": [
        "#O projeto explica todos os campos de um demonstrativo de pagamento, vulgo holerite. Que muitos trabaladores tem dúvidas sobre as informações contidas nesse documento."
      ],
      "metadata": {
        "id": "0fZ-t2O6vRDL"
      }
    },
    {
      "cell_type": "code",
      "execution_count": null,
      "metadata": {
        "id": "yTGGF-Q1st3Z"
      },
      "outputs": [],
      "source": [
        "!pip install -q -U google-generativeai"
      ]
    },
    {
      "cell_type": "code",
      "source": [
        "import numpy as np\n",
        "import pandas as pd\n",
        "\n",
        "import google.generativeai as genai\n",
        "from google.colab import userdata\n",
        "\n",
        "api_key = userdata.get('SECRET_KEY')\n",
        "genai.configure(api_key=api_key)"
      ],
      "metadata": {
        "id": "TOEzYpuOs7YZ"
      },
      "execution_count": null,
      "outputs": []
    },
    {
      "cell_type": "code",
      "source": [
        "for m in genai.list_models():\n",
        "  if 'embedContent' in m.supported_generation_methods:\n",
        "    print(m.name)"
      ],
      "metadata": {
        "id": "Kbik2bzgtp5p"
      },
      "execution_count": null,
      "outputs": []
    },
    {
      "cell_type": "code",
      "source": [
        "DOCUMENT1 = {\n",
        "    \"title\": \"O que é Demosntrativo de Pagamento / Holerite / Contracheque\",\n",
        "    \"content\": open(\"/content/sample_data/holerite.txt\", \"r\").read()}\n",
        "DOCUMENT2 = {\n",
        "    \"title\": \"Cabeçalho\",\n",
        "    \"content\": open(\"/content/sample_data/header.txt\", \"r\").read()}\n",
        "DOCUMENT3 = {\n",
        "    \"title\": \"Detalhe\",\n",
        "    \"content\": open(\"/content/sample_data/detail.txt\", \"r\").read()}\n",
        "DOCUMENT4 = {\n",
        "    \"title\": \"Rodapé\",\n",
        "    \"content\": open(\"/content/sample_data/footer.txt\", \"r\").read()}\n",
        "\n",
        "documents = [DOCUMENT1, DOCUMENT2, DOCUMENT3, DOCUMENT4]"
      ],
      "metadata": {
        "id": "bkqNLLbvtlB6"
      },
      "execution_count": null,
      "outputs": []
    },
    {
      "cell_type": "code",
      "source": [
        "df = pd.DataFrame(documents)\n",
        "df.columns = [\"Título\", \"Conteúdo\"]\n",
        "#display(df)"
      ],
      "metadata": {
        "id": "OuKP9NyYtvd4"
      },
      "execution_count": null,
      "outputs": []
    },
    {
      "cell_type": "code",
      "source": [
        "def embed_fn(title, text):\n",
        "  return genai.embed_content(model=model,\n",
        "                                content=text,\n",
        "                                task_type=\"RETRIEVAL_DOCUMENT\",\n",
        "                                title=title)[\"embedding\"]"
      ],
      "metadata": {
        "id": "4BYWAn6IuCVZ"
      },
      "execution_count": null,
      "outputs": []
    },
    {
      "cell_type": "code",
      "source": [
        "generation_config = {\n",
        "    \"temperature\": 0.4,\n",
        "    \"candidate_count\": 1,\n",
        "}"
      ],
      "metadata": {
        "id": "NPTM67GCuPsh"
      },
      "execution_count": null,
      "outputs": []
    },
    {
      "cell_type": "code",
      "source": [
        "safety_settings = {\n",
        "    \"HARASSMENT\":\"BLOCK_NONE\",\n",
        "    \"HATE\":\"BLOCK_NONE\",\n",
        "    \"SEXUAL\":\"BLOCK_NONE\",\n",
        "    \"DANGEROUS\":\"BLOCK_NONE\",\n",
        "}"
      ],
      "metadata": {
        "id": "tBh684EGE6RC"
      },
      "execution_count": null,
      "outputs": []
    },
    {
      "cell_type": "code",
      "source": [
        "model = 'models/embedding-001'"
      ],
      "metadata": {
        "id": "fD5LPsDI6MQG"
      },
      "execution_count": null,
      "outputs": []
    },
    {
      "cell_type": "code",
      "source": [
        "df[\"Embeddings\"] = df.apply(lambda row: embed_fn(row[\"Título\"], row[\"Conteúdo\"]), axis=1)\n",
        "#display(df)"
      ],
      "metadata": {
        "id": "BrjjjCb6uDIS"
      },
      "execution_count": null,
      "outputs": []
    },
    {
      "cell_type": "code",
      "source": [
        "def gerar_e_buscar_consulta(consulta, base, model):\n",
        "  embed_da_consulta = genai.embed_content(model=model,\n",
        "                                content=consulta,\n",
        "                                task_type=\"RETRIEVAL_QUERY\")[\"embedding\"]\n",
        "\n",
        "  produto_escalares = np.dot(np.stack(df[\"Embeddings\"]), embed_da_consulta)\n",
        "\n",
        "  indice = np.argmax(produto_escalares)\n",
        "\n",
        "  return df.iloc[indice][\"Conteúdo\"]"
      ],
      "metadata": {
        "id": "F5yTNf5duJDS"
      },
      "execution_count": null,
      "outputs": []
    },
    {
      "cell_type": "code",
      "source": [
        "consulta = input(\"Qual sua dúvida sobre Demonstrativos de Pagamento? \")\n",
        "consulta\n",
        "match consulta:\n",
        "    case \"fim\":\n",
        "        print(\"Até breve!\")\n",
        "    case _:\n",
        "        trecho = gerar_e_buscar_consulta(consulta, df, model)\n",
        "        prompt = f\"Reescreva esse texto de uma forma descontratida, informal, sem informações que não façam parte do texto: {trecho}\"\n",
        "        print(prompt)"
      ],
      "metadata": {
        "id": "n58D6bPJuMXR"
      },
      "execution_count": null,
      "outputs": []
    }
  ]
}